{
 "cells": [
  {
   "cell_type": "code",
   "execution_count": null,
   "id": "b9100335",
   "metadata": {},
   "outputs": [],
   "source": [
    "import pandas as pd\n",
    "from sklearn.model_selection import train_test_split\n",
    "from sklearn.linear_model import LinearRegression\n",
    "from sklearn.tree import DecisionTreeRegressor\n",
    "from sklearn.compose import ColumnTransformer\n",
    "from sklearn.ensemble import GradientBoostingRegressor\n",
    "from sklearn.metrics import mean_absolute_error, r2_score\n",
    "from sklearn.pipeline import make_pipeline\n",
    "from sklearn.preprocessing import OneHotEncoder, StandardScaler\n",
    "import pickle"
   ]
  },
  {
   "cell_type": "code",
   "execution_count": 4,
   "id": "d51248e3",
   "metadata": {},
   "outputs": [],
   "source": [
    "df = pd.read_csv(\"supply_chain_deliveries.csv\")"
   ]
  },
  {
   "cell_type": "code",
   "execution_count": 5,
   "id": "6adc71b1",
   "metadata": {},
   "outputs": [
    {
     "data": {
      "text/html": [
       "<div>\n",
       "<style scoped>\n",
       "    .dataframe tbody tr th:only-of-type {\n",
       "        vertical-align: middle;\n",
       "    }\n",
       "\n",
       "    .dataframe tbody tr th {\n",
       "        vertical-align: top;\n",
       "    }\n",
       "\n",
       "    .dataframe thead th {\n",
       "        text-align: right;\n",
       "    }\n",
       "</style>\n",
       "<table border=\"1\" class=\"dataframe\">\n",
       "  <thead>\n",
       "    <tr style=\"text-align: right;\">\n",
       "      <th></th>\n",
       "      <th>WorkDate</th>\n",
       "      <th>Customer</th>\n",
       "      <th>Location</th>\n",
       "      <th>BusinessType</th>\n",
       "      <th>OrderCount</th>\n",
       "      <th>NumberOfPieces</th>\n",
       "      <th>TotalRevenue</th>\n",
       "    </tr>\n",
       "  </thead>\n",
       "  <tbody>\n",
       "    <tr>\n",
       "      <th>0</th>\n",
       "      <td>2020-01-02</td>\n",
       "      <td>Amazon</td>\n",
       "      <td>Chicago</td>\n",
       "      <td>Final Mile</td>\n",
       "      <td>38</td>\n",
       "      <td>190</td>\n",
       "      <td>2084.09</td>\n",
       "    </tr>\n",
       "    <tr>\n",
       "      <th>1</th>\n",
       "      <td>2020-01-02</td>\n",
       "      <td>Home Depot</td>\n",
       "      <td>Sacramento</td>\n",
       "      <td>Final Mile</td>\n",
       "      <td>34</td>\n",
       "      <td>136</td>\n",
       "      <td>6153.01</td>\n",
       "    </tr>\n",
       "    <tr>\n",
       "      <th>2</th>\n",
       "      <td>2020-01-02</td>\n",
       "      <td>Home Depot</td>\n",
       "      <td>Chicago</td>\n",
       "      <td>Final Mile</td>\n",
       "      <td>43</td>\n",
       "      <td>215</td>\n",
       "      <td>15691.72</td>\n",
       "    </tr>\n",
       "    <tr>\n",
       "      <th>3</th>\n",
       "      <td>2020-01-02</td>\n",
       "      <td>Home Depot</td>\n",
       "      <td>Detroit</td>\n",
       "      <td>Final Mile</td>\n",
       "      <td>41</td>\n",
       "      <td>164</td>\n",
       "      <td>6490.39</td>\n",
       "    </tr>\n",
       "    <tr>\n",
       "      <th>4</th>\n",
       "      <td>2020-01-02</td>\n",
       "      <td>Home Depot</td>\n",
       "      <td>Atlanta</td>\n",
       "      <td>Final Mile</td>\n",
       "      <td>44</td>\n",
       "      <td>220</td>\n",
       "      <td>10069.65</td>\n",
       "    </tr>\n",
       "  </tbody>\n",
       "</table>\n",
       "</div>"
      ],
      "text/plain": [
       "     WorkDate    Customer    Location BusinessType  OrderCount  \\\n",
       "0  2020-01-02      Amazon     Chicago   Final Mile          38   \n",
       "1  2020-01-02  Home Depot  Sacramento   Final Mile          34   \n",
       "2  2020-01-02  Home Depot     Chicago   Final Mile          43   \n",
       "3  2020-01-02  Home Depot     Detroit   Final Mile          41   \n",
       "4  2020-01-02  Home Depot     Atlanta   Final Mile          44   \n",
       "\n",
       "   NumberOfPieces  TotalRevenue  \n",
       "0             190       2084.09  \n",
       "1             136       6153.01  \n",
       "2             215      15691.72  \n",
       "3             164       6490.39  \n",
       "4             220      10069.65  "
      ]
     },
     "execution_count": 5,
     "metadata": {},
     "output_type": "execute_result"
    }
   ],
   "source": [
    "df.head()"
   ]
  },
  {
   "cell_type": "code",
   "execution_count": 6,
   "id": "14116026",
   "metadata": {},
   "outputs": [
    {
     "name": "stdout",
     "output_type": "stream",
     "text": [
      "<class 'pandas.core.frame.DataFrame'>\n",
      "RangeIndex: 126255 entries, 0 to 126254\n",
      "Data columns (total 7 columns):\n",
      " #   Column          Non-Null Count   Dtype  \n",
      "---  ------          --------------   -----  \n",
      " 0   WorkDate        126255 non-null  object \n",
      " 1   Customer        126255 non-null  object \n",
      " 2   Location        126255 non-null  object \n",
      " 3   BusinessType    126255 non-null  object \n",
      " 4   OrderCount      126255 non-null  int64  \n",
      " 5   NumberOfPieces  126255 non-null  int64  \n",
      " 6   TotalRevenue    126255 non-null  float64\n",
      "dtypes: float64(1), int64(2), object(4)\n",
      "memory usage: 6.7+ MB\n"
     ]
    }
   ],
   "source": [
    "df.info()"
   ]
  },
  {
   "cell_type": "code",
   "execution_count": 7,
   "id": "edbbab8f",
   "metadata": {},
   "outputs": [
    {
     "data": {
      "text/html": [
       "<div>\n",
       "<style scoped>\n",
       "    .dataframe tbody tr th:only-of-type {\n",
       "        vertical-align: middle;\n",
       "    }\n",
       "\n",
       "    .dataframe tbody tr th {\n",
       "        vertical-align: top;\n",
       "    }\n",
       "\n",
       "    .dataframe thead th {\n",
       "        text-align: right;\n",
       "    }\n",
       "</style>\n",
       "<table border=\"1\" class=\"dataframe\">\n",
       "  <thead>\n",
       "    <tr style=\"text-align: right;\">\n",
       "      <th></th>\n",
       "      <th>OrderCount</th>\n",
       "      <th>NumberOfPieces</th>\n",
       "      <th>TotalRevenue</th>\n",
       "    </tr>\n",
       "  </thead>\n",
       "  <tbody>\n",
       "    <tr>\n",
       "      <th>count</th>\n",
       "      <td>126255.000000</td>\n",
       "      <td>126255.000000</td>\n",
       "      <td>126255.000000</td>\n",
       "    </tr>\n",
       "    <tr>\n",
       "      <th>mean</th>\n",
       "      <td>27.487759</td>\n",
       "      <td>137.447871</td>\n",
       "      <td>2619.589379</td>\n",
       "    </tr>\n",
       "    <tr>\n",
       "      <th>std</th>\n",
       "      <td>23.390942</td>\n",
       "      <td>119.446285</td>\n",
       "      <td>3732.441225</td>\n",
       "    </tr>\n",
       "    <tr>\n",
       "      <th>min</th>\n",
       "      <td>1.000000</td>\n",
       "      <td>3.000000</td>\n",
       "      <td>26.020000</td>\n",
       "    </tr>\n",
       "    <tr>\n",
       "      <th>25%</th>\n",
       "      <td>11.000000</td>\n",
       "      <td>52.000000</td>\n",
       "      <td>688.610000</td>\n",
       "    </tr>\n",
       "    <tr>\n",
       "      <th>50%</th>\n",
       "      <td>20.000000</td>\n",
       "      <td>100.000000</td>\n",
       "      <td>1450.790000</td>\n",
       "    </tr>\n",
       "    <tr>\n",
       "      <th>75%</th>\n",
       "      <td>37.000000</td>\n",
       "      <td>185.000000</td>\n",
       "      <td>2998.130000</td>\n",
       "    </tr>\n",
       "    <tr>\n",
       "      <th>max</th>\n",
       "      <td>149.000000</td>\n",
       "      <td>1015.000000</td>\n",
       "      <td>64318.070000</td>\n",
       "    </tr>\n",
       "  </tbody>\n",
       "</table>\n",
       "</div>"
      ],
      "text/plain": [
       "          OrderCount  NumberOfPieces   TotalRevenue\n",
       "count  126255.000000   126255.000000  126255.000000\n",
       "mean       27.487759      137.447871    2619.589379\n",
       "std        23.390942      119.446285    3732.441225\n",
       "min         1.000000        3.000000      26.020000\n",
       "25%        11.000000       52.000000     688.610000\n",
       "50%        20.000000      100.000000    1450.790000\n",
       "75%        37.000000      185.000000    2998.130000\n",
       "max       149.000000     1015.000000   64318.070000"
      ]
     },
     "execution_count": 7,
     "metadata": {},
     "output_type": "execute_result"
    }
   ],
   "source": [
    "df.describe()"
   ]
  },
  {
   "cell_type": "code",
   "execution_count": 8,
   "id": "1dbc8dc2",
   "metadata": {},
   "outputs": [
    {
     "data": {
      "text/plain": [
       "WorkDate          0\n",
       "Customer          0\n",
       "Location          0\n",
       "BusinessType      0\n",
       "OrderCount        0\n",
       "NumberOfPieces    0\n",
       "TotalRevenue      0\n",
       "dtype: int64"
      ]
     },
     "execution_count": 8,
     "metadata": {},
     "output_type": "execute_result"
    }
   ],
   "source": [
    "df.isnull().sum()"
   ]
  },
  {
   "cell_type": "code",
   "execution_count": 41,
   "id": "33a709e3",
   "metadata": {},
   "outputs": [],
   "source": [
    "# Load and prepare data\n",
    "df = pd.read_csv(\"supply_chain_deliveries.csv\")\n"
   ]
  },
  {
   "cell_type": "code",
   "execution_count": 42,
   "id": "087a5b4c",
   "metadata": {},
   "outputs": [],
   "source": [
    "df = df.drop(columns=[\"WorkDate\"])  # Drop date column\n",
    "X = df.drop(\"TotalRevenue\", axis=1)\n",
    "y = df[\"TotalRevenue\"]"
   ]
  },
  {
   "cell_type": "code",
   "execution_count": 43,
   "id": "144cbedf",
   "metadata": {},
   "outputs": [],
   "source": [
    "# Split data\n",
    "X_train, X_test, y_train, y_test = train_test_split(\n",
    "    X, y, test_size=0.2, random_state=42\n",
    ")"
   ]
  },
  {
   "cell_type": "code",
   "execution_count": 44,
   "id": "fa39d60a",
   "metadata": {},
   "outputs": [],
   "source": [
    "# Define preprocessing\n",
    "categorical_cols = ['Customer', 'Location', 'BusinessType']\n",
    "numeric_cols = ['OrderCount', 'NumberOfPieces']"
   ]
  },
  {
   "cell_type": "code",
   "execution_count": 45,
   "id": "0c7ca753",
   "metadata": {},
   "outputs": [],
   "source": [
    "preprocessor = ColumnTransformer(\n",
    "    transformers=[\n",
    "        ('num', StandardScaler(), numeric_cols),\n",
    "        ('cat', OneHotEncoder(handle_unknown='ignore'), categorical_cols)\n",
    "    ]\n",
    ")"
   ]
  },
  {
   "cell_type": "code",
   "execution_count": 46,
   "id": "53713e9f",
   "metadata": {},
   "outputs": [],
   "source": [
    "# Define models to compare\n",
    "models = {\n",
    "    \"Linear Regression\": LinearRegression(),\n",
    "    \"Decision Tree\": DecisionTreeRegressor(random_state=42),\n",
    "    \"Gradient Boosting\": GradientBoostingRegressor(random_state=42)\n",
    "}"
   ]
  },
  {
   "cell_type": "code",
   "execution_count": 47,
   "id": "5f90fa95",
   "metadata": {},
   "outputs": [
    {
     "name": "stdout",
     "output_type": "stream",
     "text": [
      "               Model          MAE  R2 Score\n",
      "1      Decision Tree     4.432243  0.999446\n",
      "2  Gradient Boosting   666.113182  0.909974\n",
      "0  Linear Regression  1305.259098  0.659993\n"
     ]
    }
   ],
   "source": [
    "# Evaluate models\n",
    "results = []\n",
    "\n",
    "for name, model in models.items():\n",
    "    pipeline = make_pipeline(preprocessor, model)\n",
    "    pipeline.fit(X_train, y_train)\n",
    "    y_pred = pipeline.predict(X_test)\n",
    "    mae = mean_absolute_error(y_test, y_pred)\n",
    "    r2 = r2_score(y_test, y_pred)\n",
    "    results.append({\"Model\": name, \"MAE\": mae, \"R2 Score\": r2})\n",
    "\n",
    "results_df = pd.DataFrame(results).sort_values(by=\"R2 Score\", ascending=False)\n",
    "print(results_df)\n"
   ]
  },
  {
   "cell_type": "code",
   "execution_count": 57,
   "id": "91c8da56",
   "metadata": {},
   "outputs": [
    {
     "name": "stdout",
     "output_type": "stream",
     "text": [
      "Best Model: Decision Tree\n",
      "Mean Absolute Error (MAE): 4.43\n",
      "R-squared Score (R²): 0.9994\n"
     ]
    }
   ],
   "source": [
    "# Find best model by highest R2 Score\n",
    "best_model_row = results_df.loc[results_df[\"R2 Score\"].idxmax()]# Extract details\n",
    "best_model_name = best_model_row[\"Model\"]\n",
    "best_model_mae = best_model_row[\"MAE\"]\n",
    "best_model_r2 = best_model_row[\"R2 Score\"]\n",
    "best_model = pipeline\n",
    "# Print results\n",
    "print(f\"Best Model: {best_model_name}\")\n",
    "print(f\"Mean Absolute Error (MAE): {best_model_mae:.2f}\")\n",
    "print(f\"R-squared Score (R²): {best_model_r2:.4f}\")"
   ]
  },
  {
   "cell_type": "code",
   "execution_count": 59,
   "id": "b507764a",
   "metadata": {},
   "outputs": [],
   "source": [
    "# Save the best model as a pickle file\n",
    "with open('revenue_model.pkl', 'wb') as f:\n",
    "    pickle.dump(best_model, f)"
   ]
  }
 ],
 "metadata": {
  "kernelspec": {
   "display_name": "venv",
   "language": "python",
   "name": "python3"
  },
  "language_info": {
   "codemirror_mode": {
    "name": "ipython",
    "version": 3
   },
   "file_extension": ".py",
   "mimetype": "text/x-python",
   "name": "python",
   "nbconvert_exporter": "python",
   "pygments_lexer": "ipython3",
   "version": "3.13.5"
  }
 },
 "nbformat": 4,
 "nbformat_minor": 5
}
